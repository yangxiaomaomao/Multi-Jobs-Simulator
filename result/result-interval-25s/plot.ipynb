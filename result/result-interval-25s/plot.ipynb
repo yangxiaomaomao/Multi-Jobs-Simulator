{
 "cells": [
  {
   "cell_type": "code",
   "execution_count": 80,
   "metadata": {},
   "outputs": [],
   "source": [
    "import os\n",
    "import sys\n",
    "import csv\n",
    "import json\n",
    "import numpy as np\n",
    "import seaborn as sns\n",
    "import re\n",
    "import matplotlib.pyplot as plt"
   ]
  },
  {
   "cell_type": "code",
   "execution_count": 81,
   "metadata": {},
   "outputs": [],
   "source": [
    "RED = '\\033[31m'\n",
    "GREEN = '\\033[32m'\n",
    "YELLOW = '\\033[33m'\n",
    "BLUE = '\\033[34m'\n",
    "MAGENTA = '\\033[35m'\n",
    "CYAN = '\\033[36m'\n",
    "WHITE = '\\033[37m'\n",
    "RESET = '\\033[0m'"
   ]
  },
  {
   "cell_type": "code",
   "execution_count": 82,
   "metadata": {},
   "outputs": [],
   "source": [
    "def find_optimal_tiresias(input_dict, xlabel_dict, min_key = None):\n",
    "    # Step 1: 找到所有包含\"Te\"的key\n",
    "    ret_dict = dict()\n",
    "    \n",
    "    if not min_key:\n",
    "        min_value = float(\"inf\")\n",
    "        for k,v in input_dict.items():\n",
    "            if 'tiresias' in k:\n",
    "                if v < min_value:\n",
    "                    min_key = k\n",
    "            \n",
    "    print(\"Tiresias min schedule: %s\" % min_key)   \n",
    "    ret_dict['Tiresias'] = input_dict[min_key]\n",
    "\n",
    "    for k,v in input_dict.items():\n",
    "        if \"tiresias\" not in k:\n",
    "            ret_dict[xlabel_dict[k]] = v\n",
    "        \n",
    "    return ret_dict, min_key"
   ]
  },
  {
   "cell_type": "code",
   "execution_count": 83,
   "metadata": {},
   "outputs": [],
   "source": [
    "def get_all_subdirectory_names(directory):\n",
    "    subdirectory_names = []\n",
    "    # 使用 os.walk 递归遍历目录树\n",
    "    for root, dirs, files in os.walk(directory):\n",
    "        for dir_name in dirs:\n",
    "            #print(dir_name)\n",
    "            subdirectory_names.append(dir_name)\n",
    "    \n",
    "    return subdirectory_names"
   ]
  },
  {
   "cell_type": "code",
   "execution_count": 84,
   "metadata": {},
   "outputs": [],
   "source": [
    "def get_scale_factor(filename):\n",
    "    with open(filename, \"r\") as f:\n",
    "        lines = f.readlines()\n",
    "        \n",
    "    for line in lines:\n",
    "        if \"sf =\" in line:\n",
    "            sf = int(line.split(\"=\")[1].strip())\n",
    "            return sf"
   ]
  },
  {
   "cell_type": "code",
   "execution_count": 85,
   "metadata": {},
   "outputs": [],
   "source": [
    "def extract_info(s:str)->dict:\n",
    "    info = dict()\n",
    "    time_pattern = re.compile(r'Time\\[(\\d+\\.\\d+)ms\\]')\n",
    "    id_pattern = re.compile(r'Job\\[\\s*(\\d+)\\]')\n",
    "\n",
    "\n",
    "    info[\"job_id\"] = int(re.findall(\"\\[(.*?)\\]\",s,re.I|re.M)[1])\n",
    "    info[\"time\"] = float(re.findall(\"\\[(.*?)\\]\",s,re.I|re.M)[0].split()[0])\n",
    "    info[\"event\"] = s.split(\",\")[1].strip()\n",
    "\n",
    "    return info"
   ]
  },
  {
   "cell_type": "code",
   "execution_count": 86,
   "metadata": {},
   "outputs": [],
   "source": [
    "def get_job_num(filename):\n",
    "    with open(filename, \"r\") as f:\n",
    "        lines = f.readlines()\n",
    "    \n",
    "    lines = [extract_info(line) for line in lines if line.startswith(\"DEBUG\")]\n",
    "    return int(len(lines) / 3) , lines"
   ]
  },
  {
   "cell_type": "code",
   "execution_count": 87,
   "metadata": {},
   "outputs": [],
   "source": [
    "def get_job_event_time(job_id:int,event:str,lines:list,scale_factor):\n",
    "    for line in lines:\n",
    "        if line[\"job_id\"] == job_id and line[\"event\"] == event:\n",
    "            return float(line[\"time\"]) * scale_factor / 1000\n",
    "    return None"
   ]
  },
  {
   "cell_type": "code",
   "execution_count": 88,
   "metadata": {},
   "outputs": [],
   "source": [
    "def main(sched_name:str, scale_factor):\n",
    "    filename = os.path.join(sched_name, \"res.csv\")\n",
    "    job_num, lines = get_job_num(filename)\n",
    "    #print(lines)\n",
    "    jobs = dict()\n",
    "    jct_sum = list()\n",
    "    exec_time_list = list()\n",
    "    for job_id in range(job_num):\n",
    "        arrive_time = get_job_event_time(job_id,\"ARRIVE\",lines,scale_factor)\n",
    "        #print(arrive_time) \n",
    "        place_time  = get_job_event_time(job_id,\"START\", lines,scale_factor)\n",
    "        end_time    = get_job_event_time(job_id,\"END\",   lines,scale_factor)\n",
    "        jobs[job_id] = {\n",
    "            \"arrive_time\":arrive_time,\n",
    "            \"place_time\":place_time,\n",
    "            \"end_time\":end_time,\n",
    "            \"pend_time\":place_time - arrive_time,\n",
    "            \"exec_time\":end_time - place_time\n",
    "        }\n",
    "        #print(job_id,\"%.2f\" % (end_time - arrive_time))\n",
    "        jct_sum.append(end_time - arrive_time)\n",
    "        exec_time_list.append(float(\"%.2f\" % (end_time - arrive_time)))\n",
    "        ave_jct = np.mean(np.array((jct_sum)))\n",
    "    tmp = [float(\"%.2f\" % i) for i in jct_sum]\n",
    "    # print(\"JCT\", tmp)\n",
    "    # print(\"EXEC\", exec_time_list)\n",
    "    print(\"*\" * 40)\n",
    "    print(f\"{YELLOW}Schedule name: %s{RESET}\" % sched_name)\n",
    "    print(f\"{GREEN}Ave JCT: %.2f{RESET}\" % (sum(jct_sum) / job_num))\n",
    "    print(f\"{GREEN}95%%-th JCT: %.2f{RESET}\" % np.percentile(jct_sum, 95))\n",
    "    print(f\"{GREEN}Makespan: %.2f{RESET}\" % (float(lines[-1][\"time\"] - lines[0][\"time\"]) * scale_factor / 1000))\n",
    "    return jobs, sum(jct_sum) / job_num, np.percentile(jct_sum, 95), (lines[-1][\"time\"] - lines[0][\"time\"])"
   ]
  },
  {
   "cell_type": "code",
   "execution_count": 89,
   "metadata": {},
   "outputs": [],
   "source": [
    "def prefix_sum(lst, loc):\n",
    "    sum = 0\n",
    "    for i in range(len(lst)):\n",
    "        if i < loc:\n",
    "            sum += lst[i]\n",
    "    return sum"
   ]
  },
  {
   "cell_type": "code",
   "execution_count": 90,
   "metadata": {},
   "outputs": [],
   "source": [
    "def make_tiny_bar_config(dirname, job_num, place_list, scale_factor):\n",
    "    bar_list = list()\n",
    "    \n",
    "    tput_file = os.listdir(dirname)\n",
    "    \n",
    "    tput_file = [os.path.join(dirname, filename) for filename in tput_file if filename.split(\".\")[-1] == \"txt\" and int(filename.split(\"-\")[1]) in list(range(job_num))]\n",
    "   \n",
    "    for file in tput_file:\n",
    "        with open(file, \"r\") as f:\n",
    "            job_id = int(file.split(\"-\")[-2])\n",
    "            lines = f.readlines()\n",
    "            tput_list = list()\n",
    "            height_list = list()\n",
    "            for line in lines:\n",
    "                tput_list.append(float(line.split(\",\")[1]) * scale_factor / 1000)\n",
    "            for i,line in enumerate(lines):\n",
    "                bottom = place_list[job_id] + prefix_sum(tput_list, i)\n",
    "                height = tput_list[i] \n",
    "                if max(tput_list) == min(tput_list):\n",
    "                    color = plt.cm.viridis(1 - (height - min(tput_list)) / min(tput_list))\n",
    "                else:\n",
    "                    color = plt.cm.viridis(1 - (height - min(tput_list)) / (max(tput_list) - min(tput_list)))\n",
    "\n",
    "                bar_list.append({\n",
    "                    \"job_id\": job_id,\n",
    "                    \"bottom\": bottom,\n",
    "                    \"height\":height,\n",
    "                    \"color\": color\n",
    "                })\n",
    "    return bar_list"
   ]
  },
  {
   "cell_type": "code",
   "execution_count": 91,
   "metadata": {},
   "outputs": [
    {
     "name": "stdout",
     "output_type": "stream",
     "text": [
      "****************************************\n",
      "\u001b[33mSchedule name: fifo-load_balance\u001b[0m\n",
      "\u001b[32mAve JCT: 9937.19\u001b[0m\n",
      "\u001b[32m95%-th JCT: 21031.37\u001b[0m\n",
      "\u001b[32mMakespan: 25318.63\u001b[0m\n",
      "****************************************\n",
      "\u001b[33mSchedule name: fifo-tiresias\u001b[0m\n",
      "\u001b[32mAve JCT: 3247.33\u001b[0m\n",
      "\u001b[32m95%-th JCT: 5514.00\u001b[0m\n",
      "\u001b[32mMakespan: 7488.75\u001b[0m\n",
      "****************************************\n",
      "\u001b[33mSchedule name: fifo-gandiva\u001b[0m\n",
      "\u001b[32mAve JCT: 2790.98\u001b[0m\n",
      "\u001b[32m95%-th JCT: 5987.51\u001b[0m\n",
      "\u001b[32mMakespan: 8023.96\u001b[0m\n",
      "****************************************\n",
      "\u001b[33mSchedule name: time-shortest-tiresias\u001b[0m\n",
      "\u001b[32mAve JCT: 3124.88\u001b[0m\n",
      "\u001b[32m95%-th JCT: 9896.99\u001b[0m\n",
      "\u001b[32mMakespan: 12184.35\u001b[0m\n",
      "****************************************\n",
      "\u001b[33mSchedule name: jaca-jaca\u001b[0m\n",
      "\u001b[32mAve JCT: 1367.83\u001b[0m\n",
      "\u001b[32m95%-th JCT: 5435.42\u001b[0m\n",
      "\u001b[32mMakespan: 7176.17\u001b[0m\n",
      "****************************************\n",
      "\u001b[33mSchedule name: fifo-consolidate\u001b[0m\n",
      "\u001b[32mAve JCT: 1978.75\u001b[0m\n",
      "\u001b[32m95%-th JCT: 3542.53\u001b[0m\n",
      "\u001b[32mMakespan: 6006.78\u001b[0m\n",
      "****************************************\n",
      "\u001b[33mSchedule name: smallest-tiresias\u001b[0m\n",
      "\u001b[32mAve JCT: 2120.46\u001b[0m\n",
      "\u001b[32m95%-th JCT: 4966.23\u001b[0m\n",
      "\u001b[32mMakespan: 7131.64\u001b[0m\n",
      "****************************************\n",
      "\u001b[33mSchedule name: gputime-shortest-tiresias\u001b[0m\n",
      "\u001b[32mAve JCT: 2317.41\u001b[0m\n",
      "\u001b[32m95%-th JCT: 9797.72\u001b[0m\n",
      "\u001b[32mMakespan: 11687.13\u001b[0m\n"
     ]
    },
    {
     "data": {
      "image/png": "[encoded data removed]",
      "text/plain": [
       "<Figure size 432x288 with 1 Axes>"
      ]
     },
     "metadata": {},
     "output_type": "display_data"
    }
   ],
   "source": [
    "xlabel_dict = {    \n",
    "    \"fifo-load_balance\":\"K8S\",\n",
    "\n",
    "    \"fifo-consolidate\":\"Yarn\", \n",
    "    \n",
    "    \"jaca-jaca\":\"jaca\",\n",
    "    \n",
    "    \"smallest-tiresias\":\"GPU-Te\",\n",
    "    \"fifo-tiresias\":\"Arr-Te\",\n",
    "    \"time-shortest-tiresias\":\"Time-Te\",\n",
    "    \"gputime-shortest-tiresias\":\"GT-Te\",\n",
    "    \"Tiresias\":\"Tiresias\",\n",
    "    \n",
    "    \"fifo-gandiva\":\"Gandiva\",\n",
    "}\n",
    "sched_list = get_all_subdirectory_names(\".\")\n",
    "sched_list = [sched for sched in sched_list if sched in list(xlabel_dict.keys())]\n",
    "#sched_list = [\"jaca-jaca\"]\n",
    "sched_dict = {i:v for i,v in enumerate(sched_list)}\n",
    "#sched_list = [sched_list[0]]\n",
    "#print(sched_list)\n",
    "\n",
    "jct_dict = dict()\n",
    "jct_dict_95 = dict()\n",
    "makespan_dict = dict()\n",
    "scale_factor = get_scale_factor(\"../../run.py\")\n",
    "for sched in sched_list:\n",
    "    jobs_info, ave_jct, jct_95, makespan = main(sched,scale_factor)\n",
    "    jct_dict[sched] = ave_jct\n",
    "    jct_dict_95[sched] = jct_95\n",
    "    makespan_dict[sched] = makespan\n",
    "    #continue\n",
    "    arrive_list = [v[\"arrive_time\"] for k,v in jobs_info.items()]\n",
    "    pend_list   = [v[\"pend_time\"]   for k,v in jobs_info.items()]\n",
    "    exec_list   = [v[\"exec_time\"]   for k,v in jobs_info.items()]\n",
    "    place_list  = [v[\"place_time\"]  for k,v in jobs_info.items()]\n",
    "    plt.cla()\n",
    "    plt.style.use(\"fivethirtyeight\")\n",
    "    plt.bar(range(len(jobs_info)), pend_list, bottom=arrive_list, color = \"#B8DBB3\", label = \"pending\")\n",
    "    # bar_list = make_tiny_bar_config(sched, len(arrive_list), place_list, scale_factor)\n",
    "    # # plt.bar(range(len(jobs_info)), exec_list, bottom=place_list,  color = \"#E29135\", label = \"running\")\\\n",
    "    # for bar in bar_list:\n",
    "    #     plt.bar([bar[\"job_id\"]],[bar[\"height\"]],bottom=[bar[\"bottom\"]],color = bar[\"color\"])\n",
    "    \n",
    "    #plt.text(7, 20000, \"the deeper color, the slower\", fontsize=12, color='red')\n",
    "    plt.title(sched)\n",
    "    plt.xticks(range(len(jobs_info)), fontsize=4)\n",
    "    plt.xlabel(\"Job id\")\n",
    "    plt.ylabel(\"Time (s)\")\n",
    "    plt.legend()\n",
    "    plt.savefig(\"%s/res.pdf\" % sched, bbox_inches = \"tight\")"
   ]
  },
  {
   "cell_type": "code",
   "execution_count": 95,
   "metadata": {},
   "outputs": [
    {
     "name": "stdout",
     "output_type": "stream",
     "text": [
      "Tiresias min schedule: gputime-shortest-tiresias\n",
      "Tiresias min schedule: gputime-shortest-tiresias\n",
      "Tiresias min schedule: gputime-shortest-tiresias\n"
     ]
    },
    {
     "data": {
      "image/png": "[encoded data removed]",
      "text/plain": [
       "<Figure size 432x288 with 1 Axes>"
      ]
     },
     "metadata": {},
     "output_type": "display_data"
    }
   ],
   "source": [
    "def write_res(filename, info_dict, res_list):\n",
    "    with open(filename, \"w\") as f:\n",
    "        for sched_name, v in zip(list(info_dict.keys()), res_list):\n",
    "            f.write(f\"{sched_name},{v}\\n\")\n",
    "\n",
    "#xlabel_dict = {i:xlabel_dict[v] for i,v in enumerate(sched_list)}\n",
    "\n",
    "final_jct_dict, min_key = find_optimal_tiresias(jct_dict, xlabel_dict)\n",
    "final_jct_dict_95, min_key = find_optimal_tiresias(jct_dict_95, xlabel_dict, min_key)\n",
    "final_makespan_dict, min_key = find_optimal_tiresias(makespan_dict, xlabel_dict, min_key)\n",
    "# JCT\n",
    "plt.cla()\n",
    "plt.title(\"JCT comparision\")\n",
    "plt.style.use(\"fivethirtyeight\")\n",
    "\n",
    "uniform_value = np.array(list(final_jct_dict.values())) / min(final_jct_dict.values())\n",
    "plt.bar(range(len(final_jct_dict)), uniform_value)\n",
    "plt.xlabel(\"Scheduler name\")\n",
    "plt.xticks(range(len(final_jct_dict)),list(final_jct_dict.keys()),rotation = 0, fontsize = 14)\n",
    "\n",
    "write_res(\"jct.csv\", final_jct_dict, uniform_value)\n",
    "plt.savefig(\"jct.pdf\", bbox_inches = \"tight\")\n",
    "\n",
    "# 95th JCT\n",
    "plt.cla()\n",
    "plt.title(\"JCT-95th comparision\")\n",
    "plt.style.use(\"fivethirtyeight\")\n",
    "\n",
    "uniform_value = np.array(list(final_jct_dict_95.values())) / min(final_jct_dict_95.values())\n",
    "plt.bar(range(len(final_jct_dict_95)), uniform_value)\n",
    "plt.xlabel(\"Scheduler name\")\n",
    "plt.xticks(range(len(final_jct_dict_95)),list(final_jct_dict_95.keys()),rotation = 0, fontsize = 14)\n",
    "\n",
    "write_res(\"jct-95th.csv\", final_jct_dict_95, uniform_value)\n",
    "plt.savefig(\"jct-95th.pdf\", bbox_inches = \"tight\")\n",
    "\n",
    "# Makespan\n",
    "plt.cla()\n",
    "plt.title(\"Makespan comparision\")\n",
    "plt.style.use(\"fivethirtyeight\")\n",
    "\n",
    "uniform_value = np.array(list(final_makespan_dict.values())) / min(final_makespan_dict.values())\n",
    "plt.bar(range(len(final_makespan_dict)), uniform_value)\n",
    "plt.xlabel(\"Scheduler name\")\n",
    "plt.xticks(range(len(final_makespan_dict)),list(final_makespan_dict.keys()),rotation = 0, fontsize = 14)\n",
    "\n",
    "write_res(\"makespan.csv\", final_makespan_dict, uniform_value)\n",
    "plt.savefig(\"makespan.pdf\", bbox_inches = \"tight\")"
   ]
  }
 ],
 "metadata": {
  "kernelspec": {
   "display_name": "base",
   "language": "python",
   "name": "python3"
  },
  "language_info": {
   "codemirror_mode": {
    "name": "ipython",
    "version": 3
   },
   "file_extension": ".py",
   "mimetype": "text/x-python",
   "name": "python",
   "nbconvert_exporter": "python",
   "pygments_lexer": "ipython3",
   "version": "3.8.5"
  }
 },
 "nbformat": 4,
 "nbformat_minor": 2
}
