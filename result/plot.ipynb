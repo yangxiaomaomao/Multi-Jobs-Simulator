{
 "cells": [
  {
   "cell_type": "code",
   "execution_count": null,
   "metadata": {},
   "outputs": [],
   "source": [
    "import os\n",
    "import sys\n",
    "import csv\n",
    "import json\n",
    "import numpy as np\n",
    "import seaborn as sns\n",
    "import re\n",
    "import matplotlib.pyplot as plt"
   ]
  },
  {
   "cell_type": "code",
   "execution_count": null,
   "metadata": {},
   "outputs": [],
   "source": [
    "def extract_info(s:str)->dict:\n",
    "    info = dict()\n",
    "    time_pattern = re.compile(r'Time\\[(\\d+\\.\\d+)ms\\]')\n",
    "    id_pattern = re.compile(r'Job\\[\\s*(\\d+)\\]')\n",
    "\n",
    "\n",
    "    info[\"job_id\"] = int(re.findall(\"\\[(.*?)\\]\",s,re.I|re.M)[1])\n",
    "    #print(re.findall(\"\\[(.*?)\\]\",s,re.I|re.M)[0].split())\n",
    "    info[\"time\"] = float(re.findall(\"\\[(.*?)\\]\",s,re.I|re.M)[0].split()[0])\n",
    "    #print(s.split(\",\"))\n",
    "    info[\"event\"] = s.split(\",\")[1].strip()\n",
    "    #print(info)\n",
    "    return info"
   ]
  },
  {
   "cell_type": "code",
   "execution_count": null,
   "metadata": {},
   "outputs": [],
   "source": [
    "extract_info(\"DEBUG:root:Time[0.00000 ms]:    Job[ 0], ARRIVE, vgg16\")"
   ]
  },
  {
   "cell_type": "code",
   "execution_count": null,
   "metadata": {},
   "outputs": [],
   "source": [
    "def get_job_num(filename):\n",
    "    with open(filename, \"r\") as f:\n",
    "        lines = f.readlines()\n",
    "    \n",
    "    lines = [extract_info(line) for line in lines if line.startswith(\"DEBUG\")]\n",
    "    return int(len(lines) / 3) , lines"
   ]
  },
  {
   "cell_type": "code",
   "execution_count": null,
   "metadata": {},
   "outputs": [],
   "source": [
    "def get_job_event_time(job_id:int,event:str,lines:list,scale_factor):\n",
    "    for line in lines:\n",
    "        if line[\"job_id\"] == job_id and line[\"event\"] == event:\n",
    "            return float(line[\"time\"]) * scale_factor / 1000\n",
    "    return None"
   ]
  },
  {
   "cell_type": "code",
   "execution_count": null,
   "metadata": {},
   "outputs": [],
   "source": [
    "def main(sched_name:str, scale_factor):\n",
    "    filename = sched_name + \".csv\"\n",
    "    job_num, lines = get_job_num(filename)\n",
    "    print(lines)\n",
    "    jobs = dict()\n",
    "    jct_sum = list()\n",
    "    for job_id in range(job_num):\n",
    "        arrive_time = get_job_event_time(job_id,\"ARRIVE\",lines,scale_factor)\n",
    "        place_time  = get_job_event_time(job_id,\"START\", lines,scale_factor)\n",
    "        end_time    = get_job_event_time(job_id,\"END\",   lines,scale_factor)\n",
    "        jobs[job_id] = {\n",
    "            \"arrive_time\":arrive_time,\n",
    "            \"place_time\":place_time,\n",
    "            \"end_time\":end_time,\n",
    "            \"pend_time\":place_time - arrive_time,\n",
    "            \"exec_time\":end_time - place_time\n",
    "        }\n",
    "        #print(job_id,\"%.2f\" % (end_time - arrive_time))\n",
    "        jct_sum.append(end_time - arrive_time)\n",
    "        ave_jct = np.mean(np.array((jct_sum)))\n",
    "    tmp = [float(\"%.2f\" % i) for i in jct_sum]\n",
    "    print(\"JCT\", tmp)\n",
    "    print(\"*\" * 40)\n",
    "    print(\"Schedule name: %s\" % sched_name)\n",
    "    print(\"Ave JCT: %.2f\" % (sum(jct_sum) / job_num))\n",
    "    #print(jct_sum)\n",
    "    # print(\"99%%-th JCT: %.2f\" % np.percentile(jct_sum, 99))\n",
    "    print(\"95%%-th JCT: %.2f\" % np.percentile(jct_sum, 95))\n",
    "    print(\"Makespan: %.2f\" % (lines[-1][\"time\"] - lines[0][\"time\"]))\n",
    "    return jobs, sum(jct_sum) / job_num, np.percentile(jct_sum, 95), (lines[-1][\"time\"] - lines[0][\"time\"])"
   ]
  },
  {
   "cell_type": "code",
   "execution_count": null,
   "metadata": {},
   "outputs": [],
   "source": [
    "sched_list = [\n",
    "    \"trace\",\n",
    "]\n",
    "jct_dict = dict()\n",
    "jct_dict_95 = dict()\n",
    "makespan_list = dict()\n",
    "scale_factor = 40\n",
    "for sched in sched_list:\n",
    "    jobs_info, ave_jct, jct_95, makespan = main(sched,scale_factor)\n",
    "    jct_dict[sched] = ave_jct\n",
    "    jct_dict_95[sched] = jct_95\n",
    "    makespan_list[sched] = makespan\n",
    "    #continue\n",
    "    arrive_list = [v[\"arrive_time\"] for k,v in jobs_info.items()]\n",
    "    pend_list   = [v[\"pend_time\"]   for k,v in jobs_info.items()]\n",
    "    exec_list   = [v[\"exec_time\"]   for k,v in jobs_info.items()]\n",
    "    place_list  = [v[\"place_time\"]  for k,v in jobs_info.items()]\n",
    "    plt.cla()\n",
    "    plt.style.use(\"fivethirtyeight\")\n",
    "    plt.bar(range(len(jobs_info)), pend_list, bottom=arrive_list, color = \"#B8DBB3\", label = \"pending\")\n",
    "    plt.bar(range(len(jobs_info)), exec_list, bottom=place_list,  color = \"#E29135\", label = \"running\")\n",
    "    plt.xticks(range(len(jobs_info)))\n",
    "    plt.legend()\n",
    "    plt.savefig(\"%s.pdf\" % sched, bbox_inches = \"tight\")\n",
    "\n",
    "total = 0\n",
    "if 0:\n",
    "    plt.cla()\n",
    "    plt.title(\"JCT comparision\")\n",
    "    plt.style.use(\"fivethirtyeight\")\n",
    "    plt.bar(range(len(jct_dict)),np.array(list(jct_dict.values())) / min(jct_dict.values()))\n",
    "    plt.xlabel(\"Sched + Placer\")\n",
    "    plt.xticks(range(len(jct_dict)),[\n",
    "        \"jaca_future\",\"jaca\",\n",
    "        \"G&T-C\",\"GPU-C\",\"Time-C\",\"Arr-C\",\n",
    "        \"G&T-LB\",\"GPU-LB\",\"Time-LB\",\"Arr-LB\",\n",
    "    ],rotation = 0, fontsize = 8)\n",
    "    \n",
    "    plt.savefig(\"jct/jct.pdf\", bbox_inches = \"tight\")\n",
    "if 0:\n",
    "    plt.cla()\n",
    "    plt.title(\"JCT-95th comparision\")\n",
    "    plt.style.use(\"fivethirtyeight\")\n",
    "    plt.bar(range(len(jct_dict_95)),np.array(list(jct_dict_95.values())) / min(jct_dict_95.values()))\n",
    "    plt.xlabel(\"Sched + Placer\")\n",
    "    plt.xticks(range(len(jct_dict_95)),[\n",
    "        \"jaca_future\",\"jaca\",\n",
    "        \"G&T-C\",\"GPU-C\",\"Time-C\",\"Arr-C\",\n",
    "        \"G&T-LB\",\"GPU-LB\",\"Time-LB\",\"Arr-LB\",\n",
    "    ],rotation = 0, fontsize = 5)\n",
    "    plt.savefig(\"jct/jct-95th.pdf\", bbox_inches = \"tight\")\n",
    "if 0:\n",
    "    plt.cla()\n",
    "    plt.title(\"Makespan comparision\")\n",
    "    plt.style.use(\"fivethirtyeight\")\n",
    "    plt.bar(range(len(makespan_list)),np.array(list(makespan_list.values())) / min(makespan_list.values()))\n",
    "    plt.xlabel(\"Sched + Placer\")\n",
    "    plt.xticks(range(len(makespan_list)),[\n",
    "        \"jaca_future\",\"jaca\",\n",
    "        \"G&T-C\",\"GPU-C\",\"Time-C\",\"Arr-C\",\n",
    "        \"G&T-LB\",\"GPU-LB\",\"Time-LB\",\"Arr-LB\",\n",
    "    ],rotation = 0, fontsize = 5)\n",
    "    plt.savefig(\"jct/makespan.pdf\", bbox_inches = \"tight\")"
   ]
  },
  {
   "cell_type": "code",
   "execution_count": 12,
   "metadata": {},
   "outputs": [
    {
     "name": "stdout",
     "output_type": "stream",
     "text": [
      "['G1', 'G3', 'G3', 'G3']\n"
     ]
    }
   ],
   "source": [
    "import re\n",
    "\n",
    "a = r'''\n",
    "    DEBUG:root:Time[0.00000s]: Job[ 0] ARRIVE vgg16_1\n",
    "    DEBUG:root:Time[0.00000s]: Job[ 0] START G0-G1\n",
    "    DEBUG:root:Time[300.00000s]: Job[ 1] ARRIVE resnet50_1\n",
    "    DEBUG:root:Time[300.00000s]: Job[ 1] START G2-G3\n",
    "    DEBUG:root:Time[400.00000s]: Job[ 2] ARRIVE vgg16_2\n",
    "    DEBUG:root:Time[594.28277s]: Job[ 1] END 294.282771084337\n",
    "    DEBUG:root:Time[599.46988s]: Job[ 2] START G2-G3\n",
    "    DEBUG:root:Time[600.00000s]: Job[ 3] ARRIVE resnet50_2\n",
    "    DEBUG:root:Time[1580.62651s]: Job[ 2] END 1180.6265060240958\n",
    "    DEBUG:root:Time[1567.90361s]: Job[ 3] START G2-G3\n",
    "    DEBUG:root:Time[2808.51229s]: Job[ 3] END 2208.512289156633\n",
    "    DEBUG:root:Time[7063.42169s]: Job[ 0] END 7063.421686746973\n",
    "'''\n",
    "\n",
    "# 正则表达式匹配Time后面的时间\n",
    "pattern = re.compile(r'Time\\[(\\d+\\.\\d+)s\\]')\n",
    "p = re.compile(r\"Job\\[(\\s*\\d+)\\]\")\n",
    "ep = re.compile(r\"\\]\\s(\\w+)\\s\")\n",
    "gp = re.compile(r\"G\\d+-G\\d+\")\n",
    "# 查找所有匹配的结果\n",
    "matches = gp.findall(a)\n",
    "\n",
    "# 打印结果\n",
    "print(matches)"
   ]
  }
 ],
 "metadata": {
  "kernelspec": {
   "display_name": "base",
   "language": "python",
   "name": "python3"
  },
  "language_info": {
   "codemirror_mode": {
    "name": "ipython",
    "version": 3
   },
   "file_extension": ".py",
   "mimetype": "text/x-python",
   "name": "python",
   "nbconvert_exporter": "python",
   "pygments_lexer": "ipython3",
   "version": "3.8.5"
  }
 },
 "nbformat": 4,
 "nbformat_minor": 2
}
