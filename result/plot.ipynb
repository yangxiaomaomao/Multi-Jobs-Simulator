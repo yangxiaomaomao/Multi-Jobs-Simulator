{
 "cells": [
  {
   "cell_type": "code",
   "execution_count": 19,
   "metadata": {},
   "outputs": [],
   "source": [
    "import os\n",
    "import sys\n",
    "import csv\n",
    "import json\n",
    "import numpy as np\n",
    "import seaborn as sns\n",
    "import re\n",
    "import matplotlib.pyplot as plt"
   ]
  },
  {
   "cell_type": "code",
   "execution_count": 20,
   "metadata": {},
   "outputs": [],
   "source": [
    "def extract_info(s:str)->dict:\n",
    "    info = dict()\n",
    "    time_pattern = re.compile(r'Time\\[(\\d+\\.\\d+)ms\\]')\n",
    "    id_pattern = re.compile(r'Job\\[\\s*(\\d+)\\]')\n",
    "\n",
    "\n",
    "    info[\"job_id\"] = int(re.findall(\"\\[(.*?)\\]\",s,re.I|re.M)[1])\n",
    "    info[\"time\"] = float(re.findall(\"\\[(.*?)\\]\",s,re.I|re.M)[0].split()[0])\n",
    "    info[\"event\"] = s.split(\",\")[1].strip()\n",
    "\n",
    "    return info"
   ]
  },
  {
   "cell_type": "code",
   "execution_count": 21,
   "metadata": {},
   "outputs": [],
   "source": [
    "def get_job_num(filename):\n",
    "    with open(filename, \"r\") as f:\n",
    "        lines = f.readlines()\n",
    "    \n",
    "    lines = [extract_info(line) for line in lines if line.startswith(\"DEBUG\")]\n",
    "    return int(len(lines) / 3) , lines"
   ]
  },
  {
   "cell_type": "code",
   "execution_count": 22,
   "metadata": {},
   "outputs": [],
   "source": [
    "def get_job_event_time(job_id:int,event:str,lines:list,scale_factor):\n",
    "    for line in lines:\n",
    "        if line[\"job_id\"] == job_id and line[\"event\"] == event:\n",
    "            return float(line[\"time\"]) * scale_factor / 1000\n",
    "    return None"
   ]
  },
  {
   "cell_type": "code",
   "execution_count": 23,
   "metadata": {},
   "outputs": [],
   "source": [
    "def main(sched_name:str, scale_factor):\n",
    "    filename = sched_name + \".csv\"\n",
    "    job_num, lines = get_job_num(filename)\n",
    "    #print(lines)\n",
    "    jobs = dict()\n",
    "    jct_sum = list()\n",
    "    for job_id in range(job_num):\n",
    "        arrive_time = get_job_event_time(job_id,\"ARRIVE\",lines,scale_factor)\n",
    "        #print(arrive_time)\n",
    "        place_time  = get_job_event_time(job_id,\"START\", lines,scale_factor)\n",
    "        end_time    = get_job_event_time(job_id,\"END\",   lines,scale_factor)\n",
    "        jobs[job_id] = {\n",
    "            \"arrive_time\":arrive_time,\n",
    "            \"place_time\":place_time,\n",
    "            \"end_time\":end_time,\n",
    "            \"pend_time\":place_time - arrive_time,\n",
    "            \"exec_time\":end_time - place_time\n",
    "        }\n",
    "        #print(job_id,\"%.2f\" % (end_time - arrive_time))\n",
    "        jct_sum.append(end_time - arrive_time)\n",
    "        ave_jct = np.mean(np.array((jct_sum)))\n",
    "    tmp = [float(\"%.2f\" % i) for i in jct_sum]\n",
    "    print(\"JCT\", tmp)\n",
    "    print(\"*\" * 40)\n",
    "    print(\"Schedule name: %s\" % sched_name)\n",
    "    print(\"Ave JCT: %.2f\" % (sum(jct_sum) / job_num))\n",
    "    #print(jct_sum)\n",
    "    # print(\"99%%-th JCT: %.2f\" % np.percentile(jct_sum, 99))\n",
    "    print(\"95%%-th JCT: %.2f\" % np.percentile(jct_sum, 95))\n",
    "    print(\"Makespan: %.2f\" % (float(lines[-1][\"time\"] - lines[0][\"time\"]) * scale_factor / 1000))\n",
    "    return jobs, sum(jct_sum) / job_num, np.percentile(jct_sum, 95), (lines[-1][\"time\"] - lines[0][\"time\"])"
   ]
  },
  {
   "cell_type": "code",
   "execution_count": 24,
   "metadata": {},
   "outputs": [
    {
     "name": "stdout",
     "output_type": "stream",
     "text": [
      "JCT [79.6, 59.49, 124.71, 46.96, 176.71, 101.24, 71.6, 109.68, 78.64, 59.28, 84.29, 36.65, 124.25, 62.13, 153.21, 155.48, 53.95, 42.1, 130.99, 50.22, 19.77, 302.32, 169.74, 78.64, 93.6, 78.64, 46.96, 122.41, 17.98, 118.47, 25.48, 178.21, 27.84, 46.96, 184.61, 131.62, 49.02, 78.64, 36.52, 21.53, 259.21, 260.15, 93.71, 385.84, 21.53, 57.58, 176.35, 59.36, 22.56, 385.84, 170.28, 60.99, 63.59, 98.44, 75.18, 100.33, 86.49, 46.96, 82.77, 59.15]\n",
      "****************************************\n",
      "Schedule name: fifo-consolidate\n",
      "Ave JCT: 103.27\n",
      "95%-th JCT: 262.26\n",
      "Makespan: 2117.17\n",
      "JCT [79.6, 59.49, 124.71, 46.96, 176.71, 101.24, 71.6, 109.68, 78.64, 59.28, 84.29, 36.65, 124.25, 62.13, 153.21, 155.48, 53.95, 42.1, 130.99, 50.22, 19.77, 302.32, 169.74, 78.64, 93.6, 78.64, 46.96, 122.41, 17.98, 118.47, 25.48, 178.21, 27.84, 46.96, 184.61, 131.62, 49.02, 78.64, 36.52, 21.53, 259.21, 260.15, 93.71, 385.84, 21.53, 57.58, 178.99, 59.36, 22.56, 385.84, 171.11, 60.99, 63.59, 104.38, 68.96, 97.89, 79.58, 47.78, 82.35, 51.41]\n",
      "****************************************\n",
      "Schedule name: smallest-consolidate\n",
      "Ave JCT: 103.05\n",
      "95%-th JCT: 262.26\n",
      "Makespan: 2117.17\n",
      "JCT [79.6, 59.49, 124.71, 46.96, 176.71, 101.24, 71.6, 109.68, 78.64, 59.28, 84.29, 36.65, 124.25, 62.13, 153.21, 155.48, 53.95, 42.1, 130.99, 50.22, 19.77, 302.32, 169.74, 78.64, 93.6, 78.64, 46.96, 122.41, 17.98, 118.47, 25.48, 178.21, 27.84, 46.96, 184.61, 131.62, 49.02, 78.64, 36.52, 21.53, 259.21, 260.15, 93.71, 385.84, 21.53, 57.58, 178.99, 59.36, 22.56, 385.84, 171.44, 60.99, 63.59, 104.38, 68.89, 98.4, 79.58, 47.78, 82.44, 51.41]\n",
      "****************************************\n",
      "Schedule name: time-shortest-consolidate\n",
      "Ave JCT: 103.06\n",
      "95%-th JCT: 262.26\n",
      "Makespan: 2117.17\n",
      "JCT [79.6, 59.49, 124.71, 46.96, 176.71, 101.24, 71.6, 109.68, 78.64, 59.28, 84.29, 36.65, 124.25, 62.13, 153.21, 155.48, 53.95, 42.1, 130.99, 50.22, 19.77, 302.32, 169.74, 78.64, 93.6, 78.64, 46.96, 122.41, 17.98, 118.47, 25.48, 178.21, 27.84, 46.96, 184.61, 131.62, 49.02, 78.64, 36.52, 21.53, 259.21, 260.15, 93.71, 385.84, 21.53, 57.58, 178.99, 59.36, 22.56, 385.84, 171.44, 60.99, 63.59, 104.38, 69.12, 98.17, 79.58, 47.78, 82.35, 51.41]\n",
      "****************************************\n",
      "Schedule name: gputime-shortest-consolidate\n",
      "Ave JCT: 103.06\n",
      "95%-th JCT: 262.26\n",
      "Makespan: 2117.17\n"
     ]
    },
    {
     "data": {
      "image/png": "[encoded data removed]",
      "text/plain": [
       "<Figure size 432x288 with 1 Axes>"
      ]
     },
     "metadata": {},
     "output_type": "display_data"
    }
   ],
   "source": [
    "sched_list = [\n",
    "    \"fifo-consolidate\",\n",
    "    \"smallest-consolidate\",\n",
    "    \"time-shortest-consolidate\",\n",
    "    \"gputime-shortest-consolidate\",\n",
    "]\n",
    "jct_dict = dict()\n",
    "jct_dict_95 = dict()\n",
    "makespan_list = dict()\n",
    "scale_factor = 40\n",
    "for sched in sched_list:\n",
    "    jobs_info, ave_jct, jct_95, makespan = main(sched,scale_factor)\n",
    "    jct_dict[sched] = ave_jct\n",
    "    jct_dict_95[sched] = jct_95\n",
    "    makespan_list[sched] = makespan\n",
    "    #continue\n",
    "    arrive_list = [v[\"arrive_time\"] for k,v in jobs_info.items()]\n",
    "    pend_list   = [v[\"pend_time\"]   for k,v in jobs_info.items()]\n",
    "    exec_list   = [v[\"exec_time\"]   for k,v in jobs_info.items()]\n",
    "    place_list  = [v[\"place_time\"]  for k,v in jobs_info.items()]\n",
    "    plt.cla()\n",
    "    plt.style.use(\"fivethirtyeight\")\n",
    "    plt.bar(range(len(jobs_info)), pend_list, bottom=arrive_list, color = \"#B8DBB3\", label = \"pending\")\n",
    "    plt.bar(range(len(jobs_info)), exec_list, bottom=place_list,  color = \"#E29135\", label = \"running\")\n",
    "    plt.xticks(range(len(jobs_info)))\n",
    "    plt.legend()\n",
    "    plt.savefig(\"%s.pdf\" % sched, bbox_inches = \"tight\")\n",
    "\n",
    "total = 0\n",
    "if 0:\n",
    "    plt.cla()\n",
    "    plt.title(\"JCT comparision\")\n",
    "    plt.style.use(\"fivethirtyeight\")\n",
    "    plt.bar(range(len(jct_dict)),np.array(list(jct_dict.values())) / min(jct_dict.values()))\n",
    "    plt.xlabel(\"Sched + Placer\")\n",
    "    plt.xticks(range(len(jct_dict)),[\n",
    "        \"jaca_future\",\"jaca\",\n",
    "        \"G&T-C\",\"GPU-C\",\"Time-C\",\"Arr-C\",\n",
    "        \"G&T-LB\",\"GPU-LB\",\"Time-LB\",\"Arr-LB\",\n",
    "    ],rotation = 0, fontsize = 8)\n",
    "    \n",
    "    plt.savefig(\"jct/jct.pdf\", bbox_inches = \"tight\")\n",
    "if 0:\n",
    "    plt.cla()\n",
    "    plt.title(\"JCT-95th comparision\")\n",
    "    plt.style.use(\"fivethirtyeight\")\n",
    "    plt.bar(range(len(jct_dict_95)),np.array(list(jct_dict_95.values())) / min(jct_dict_95.values()))\n",
    "    plt.xlabel(\"Sched + Placer\")\n",
    "    plt.xticks(range(len(jct_dict_95)),[\n",
    "        \"jaca_future\",\"jaca\",\n",
    "        \"G&T-C\",\"GPU-C\",\"Time-C\",\"Arr-C\",\n",
    "        \"G&T-LB\",\"GPU-LB\",\"Time-LB\",\"Arr-LB\",\n",
    "    ],rotation = 0, fontsize = 5)\n",
    "    plt.savefig(\"jct/jct-95th.pdf\", bbox_inches = \"tight\")\n",
    "if 0:\n",
    "    plt.cla()\n",
    "    plt.title(\"Makespan comparision\")\n",
    "    plt.style.use(\"fivethirtyeight\")\n",
    "    plt.bar(range(len(makespan_list)),np.array(list(makespan_list.values())) / min(makespan_list.values()))\n",
    "    plt.xlabel(\"Sched + Placer\")\n",
    "    plt.xticks(range(len(makespan_list)),[\n",
    "        \"jaca_future\",\"jaca\",\n",
    "        \"G&T-C\",\"GPU-C\",\"Time-C\",\"Arr-C\",\n",
    "        \"G&T-LB\",\"GPU-LB\",\"Time-LB\",\"Arr-LB\",\n",
    "    ],rotation = 0, fontsize = 5)\n",
    "    plt.savefig(\"jct/makespan.pdf\", bbox_inches = \"tight\")"
   ]
  }
 ],
 "metadata": {
  "kernelspec": {
   "display_name": "base",
   "language": "python",
   "name": "python3"
  },
  "language_info": {
   "codemirror_mode": {
    "name": "ipython",
    "version": 3
   },
   "file_extension": ".py",
   "mimetype": "text/x-python",
   "name": "python",
   "nbconvert_exporter": "python",
   "pygments_lexer": "ipython3",
   "version": "3.8.5"
  }
 },
 "nbformat": 4,
 "nbformat_minor": 2
}
