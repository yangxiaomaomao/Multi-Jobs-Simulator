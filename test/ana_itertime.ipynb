{
 "cells": [
  {
   "cell_type": "code",
   "execution_count": null,
   "metadata": {},
   "outputs": [],
   "source": [
    "import re\n",
    "# Job[1] iter[5] cost 64.25ms\n",
    "# Job[1] iter[6] cost 64.25ms\n",
    "# Job[0] iter[1] cost 222.01ms\n",
    "# Job[1] iter[7] cost 40.55ms\n",
    "# Job[1] iter[8] cost 64.25ms"
   ]
  },
  {
   "cell_type": "code",
   "execution_count": null,
   "metadata": {},
   "outputs": [],
   "source": [
    "def get_iter_time_list(filename,job_id):\n",
    "    time_pat = re.compile(r\"iter\\[\\d+\\] cost (\\d+\\.\\d+)ms\")\n",
    "    id_pat = re.compile(r\"Job\\[(\\d+)\\]\")\n",
    "    with open(filename, \"r\") as f:\n",
    "        lines = f.readlines()\n",
    "\n",
    "    ret = []\n",
    "    for line in lines:\n",
    "        t = float(time_pat.findall(line)[0])\n",
    "        sel_id = int(id_pat.findall(line)[0])\n",
    "        if job_id == sel_id:\n",
    "            ret.append(t) \n",
    "    print(ret)\n",
    "    return sum(ret) / len(ret)"
   ]
  },
  {
   "cell_type": "code",
   "execution_count": null,
   "metadata": {},
   "outputs": [],
   "source": [
    "for job_id in [0,3]:\n",
    "    tput = get_iter_time_list(\"mid_res.txt\", job_id)\n",
    "    print(job_id, tput)"
   ]
  },
  {
   "cell_type": "code",
   "execution_count": 4,
   "metadata": {},
   "outputs": [],
   "source": [
    "import matplotlib.pyplot as plt\n",
    "import matplotlib.patches as patches\n",
    "\n",
    "def draw_head(ax):\n",
    "    # 头部\n",
    "    head = patches.Circle((0.5, 0.75), 0.1, linewidth=1, edgecolor='black', facecolor='peachpuff')\n",
    "    ax.add_patch(head)\n",
    "\n",
    "def draw_body(ax):\n",
    "    # 身体\n",
    "    body = patches.Rectangle((0.45, 0.5), 0.1, 0.25, linewidth=1, edgecolor='black', facecolor='blue')\n",
    "    ax.add_patch(body)\n",
    "\n",
    "def draw_arms(ax):\n",
    "    # 手臂\n",
    "    left_arm = patches.Rectangle((0.35, 0.5), 0.1, 0.05, linewidth=1, edgecolor='black', facecolor='blue')\n",
    "    right_arm = patches.Rectangle((0.55, 0.5), 0.1, 0.05, linewidth=1, edgecolor='black', facecolor='blue')\n",
    "    ax.add_patch(left_arm)\n",
    "    ax.add_patch(right_arm)\n",
    "\n",
    "def draw_legs(ax):\n",
    "    # 腿\n",
    "    left_leg = patches.Rectangle((0.45, 0.25), 0.02, 0.25, linewidth=1, edgecolor='black', facecolor='blue')\n",
    "    right_leg = patches.Rectangle((0.53, 0.25), 0.02, 0.25, linewidth=1, edgecolor='black', facecolor='blue')\n",
    "    ax.add_patch(left_leg)\n",
    "    ax.add_patch(right_leg)\n",
    "\n",
    "def draw_glasses(ax):\n",
    "    # 眼镜\n",
    "    left_glass = patches.Circle((0.47, 0.78), 0.03, linewidth=1, edgecolor='black', facecolor='white')\n",
    "    right_glass = patches.Circle((0.53, 0.78), 0.03, linewidth=1, edgecolor='black', facecolor='white')\n",
    "    ax.add_patch(left_glass)\n",
    "    ax.add_patch(right_glass)\n",
    "    bridge = patches.Rectangle((0.47, 0.78), 0.06, 0.01, linewidth=1, edgecolor='black', facecolor='black')\n",
    "    ax.add_patch(bridge)\n",
    "\n",
    "def draw_mouth(ax):\n",
    "    # 嘴巴\n",
    "    mouth = patches.Arc((0.5, 0.72), 0.05, 0.03, angle=0, theta1=0, theta2=180, color='red')\n",
    "    ax.add_patch(mouth)\n",
    "\n",
    "def draw_scene():\n",
    "    fig, ax = plt.subplots(figsize=(6, 8))\n",
    "    draw_head(ax)\n",
    "    draw_body(ax)\n",
    "    draw_arms(ax)\n",
    "    draw_legs(ax)\n",
    "    draw_glasses(ax)\n",
    "    draw_mouth(ax)\n",
    "    ax.set_xlim(0, 1)\n",
    "    ax.set_ylim(0, 1)\n",
    "    ax.set_aspect('equal')\n",
    "    ax.axis('off')\n",
    "    plt.show()\n",
    "\n",
    "# 调用函数绘制图形\n",
    "draw_scene()\n"
   ]
  }
 ],
 "metadata": {
  "kernelspec": {
   "display_name": "base",
   "language": "python",
   "name": "python3"
  },
  "language_info": {
   "codemirror_mode": {
    "name": "ipython",
    "version": 3
   },
   "file_extension": ".py",
   "mimetype": "text/x-python",
   "name": "python",
   "nbconvert_exporter": "python",
   "pygments_lexer": "ipython3",
   "version": "3.8.5"
  }
 },
 "nbformat": 4,
 "nbformat_minor": 2
}
