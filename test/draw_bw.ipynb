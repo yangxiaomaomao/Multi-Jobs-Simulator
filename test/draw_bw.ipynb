{
 "cells": [
  {
   "cell_type": "code",
   "execution_count": null,
   "metadata": {},
   "outputs": [],
   "source": [
    "import pandas as pd\n",
    "import numpy as np\n",
    "from scipy import stats\n",
    "import matplotlib.pyplot as plt"
   ]
  },
  {
   "cell_type": "markdown",
   "metadata": {},
   "source": [
    "### PCIe"
   ]
  },
  {
   "cell_type": "code",
   "execution_count": null,
   "metadata": {},
   "outputs": [],
   "source": [
    "\n",
    "with open(\"pcie4.txt\", \"r\") as f:\n",
    "    lines = f.readlines()\n",
    "\n",
    "x = np.array([int(line.split()[0]) for line in lines]) / (10**6) # MB\n",
    "y = np.array([float(line.split()[5]) for line in lines]) / (10**3) # ms\n",
    "slope, intercept, r_value, p_value, std_err = stats.linregress(x, y)\n",
    "print(slope, intercept)\n",
    "# 创建一个最佳拟合直线的数组\n",
    "fit_line = slope * x + intercept\n",
    "\n",
    "# 绘制原始数据和拟合直线\n",
    "plt.scatter(x, y)\n",
    "plt.plot(x, fit_line, color='red')\n",
    "plt.xlabel('X轴')\n",
    "plt.ylabel('Y轴')\n",
    "plt.title('线性拟合')\n",
    "plt.show()\n",
    " \n",
    "# 输出拟合参数和相关性系数\n",
    "print(\"斜率:\", slope)\n",
    "print(\"截距:\", intercept)\n",
    "print(\"相关性系数:\", r_value)"
   ]
  },
  {
   "cell_type": "markdown",
   "metadata": {},
   "source": [
    "### NIC"
   ]
  },
  {
   "cell_type": "code",
   "execution_count": null,
   "metadata": {},
   "outputs": [],
   "source": [
    "x = np.array([132,30,80,150,10,100,3,20]) * 4\n",
    "# 10Gbps\n",
    "y_10Gbps = np.array([0.47,0.1075,0.286,0.534,0.036,0.356,0.0115,0.0715])\n",
    "# 15Gbps\n",
    "y_15Gbps = np.array([0.451,0.13,0.2759,0.5066])\n",
    "\n",
    "y = y_10Gbps\n",
    "# 执行线性拟合\n",
    "slope, intercept, r_value, p_value, std_err = stats.linregress(x, y)\n",
    "print(slope, intercept)\n",
    "# 创建一个最佳拟合直线的数组\n",
    "fit_line = slope * x + intercept\n",
    "\n",
    "# 绘制原始数据和拟合直线\n",
    "plt.scatter(x, y)\n",
    "plt.plot(x, fit_line, color='red')\n",
    "plt.xlabel('X轴')\n",
    "plt.ylabel('Y轴')\n",
    "plt.title('线性拟合')\n",
    "plt.show()\n",
    " \n",
    "# 输出拟合参数和相关性系数\n",
    "print(\"斜率:\", slope)\n",
    "print(\"截距:\", intercept)\n",
    "print(\"相关性系数:\", r_value)\n"
   ]
  },
  {
   "cell_type": "code",
   "execution_count": null,
   "metadata": {},
   "outputs": [],
   "source": [
    "import torch\n",
    "from torchvision.models import resnet50\n",
    "\n",
    "# 加载 ResNet-50 模型\n",
    "model = resnet50(pretrained=True)\n",
    "\n",
    "# 计算模型的大小\n",
    "total_params = sum(p.numel() for p in model.parameters())\n",
    "print(\"Total parameters:\", total_params)"
   ]
  }
 ],
 "metadata": {
  "kernelspec": {
   "display_name": "base",
   "language": "python",
   "name": "python3"
  },
  "language_info": {
   "codemirror_mode": {
    "name": "ipython",
    "version": 3
   },
   "file_extension": ".py",
   "mimetype": "text/x-python",
   "name": "python",
   "nbconvert_exporter": "python",
   "pygments_lexer": "ipython3",
   "version": "3.8.5"
  }
 },
 "nbformat": 4,
 "nbformat_minor": 2
}
