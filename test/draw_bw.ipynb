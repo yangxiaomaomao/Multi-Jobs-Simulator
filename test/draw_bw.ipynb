{
 "cells": [
  {
   "cell_type": "code",
   "execution_count": 2,
   "metadata": {},
   "outputs": [],
   "source": [
    "import pandas as pd\n",
    "import numpy as np\n",
    "from scipy import stats\n",
    "import matplotlib.pyplot as plt"
   ]
  },
  {
   "cell_type": "code",
   "execution_count": 6,
   "metadata": {},
   "outputs": [
    {
     "name": "stdout",
     "output_type": "stream",
     "text": [
      "59.335443037974684\n"
     ]
    }
   ],
   "source": [
    "a = np.array([\n",
    "    4298.78,5070,4765,4548,4611\n",
    "])\n",
    "b = np.array([\n",
    "    4183,5074,4851,4642\n",
    "])\n",
    "print(b.mean()/79)"
   ]
  },
  {
   "cell_type": "code",
   "execution_count": 7,
   "metadata": {},
   "outputs": [
    {
     "name": "stdout",
     "output_type": "stream",
     "text": [
      "0.00089302362007393 0.028371192281185453\n"
     ]
    },
    {
     "name": "stderr",
     "output_type": "stream",
     "text": [
      "/home/yangxiaomao/.local/lib/python3.8/site-packages/IPython/core/pylabtools.py:151: UserWarning: Glyph 32447 (\\N{CJK UNIFIED IDEOGRAPH-7EBF}) missing from current font.\n",
      "  fig.canvas.print_figure(bytes_io, **kw)\n",
      "/home/yangxiaomao/.local/lib/python3.8/site-packages/IPython/core/pylabtools.py:151: UserWarning: Glyph 24615 (\\N{CJK UNIFIED IDEOGRAPH-6027}) missing from current font.\n",
      "  fig.canvas.print_figure(bytes_io, **kw)\n",
      "/home/yangxiaomao/.local/lib/python3.8/site-packages/IPython/core/pylabtools.py:151: UserWarning: Glyph 25311 (\\N{CJK UNIFIED IDEOGRAPH-62DF}) missing from current font.\n",
      "  fig.canvas.print_figure(bytes_io, **kw)\n",
      "/home/yangxiaomao/.local/lib/python3.8/site-packages/IPython/core/pylabtools.py:151: UserWarning: Glyph 21512 (\\N{CJK UNIFIED IDEOGRAPH-5408}) missing from current font.\n",
      "  fig.canvas.print_figure(bytes_io, **kw)\n",
      "/home/yangxiaomao/.local/lib/python3.8/site-packages/IPython/core/pylabtools.py:151: UserWarning: Glyph 36724 (\\N{CJK UNIFIED IDEOGRAPH-8F74}) missing from current font.\n",
      "  fig.canvas.print_figure(bytes_io, **kw)\n"
     ]
    },
    {
     "data": {
      "image/png": "[encoded data removed]",
      "text/plain": [
       "<Figure size 432x288 with 1 Axes>"
      ]
     },
     "metadata": {
      "needs_background": "light"
     },
     "output_type": "display_data"
    },
    {
     "name": "stdout",
     "output_type": "stream",
     "text": [
      "斜率: 0.00089302362007393\n",
      "截距: 0.028371192281185453\n",
      "相关性系数: 0.9999172967592682\n"
     ]
    }
   ],
   "source": [
    "\n",
    "with open(\"pcie4.txt\", \"r\") as f:\n",
    "    lines = f.readlines()\n",
    "\n",
    "x = np.array([int(line.split()[0]) for line in lines]) / (10**6) # MB\n",
    "y = np.array([float(line.split()[5]) for line in lines]) / (10**3) # ms\n",
    "\n",
    "\n",
    "x = np.array([132,30,80,150,10,100,3,20]) * 4\n",
    "# 10Gbps\n",
    "y_10Gbps = np.array([0.47,0.1075,0.286,0.534,0.036,0.356,0.0115,0.0715])\n",
    "# 15Gbps\n",
    "y_15Gbps = np.array([0.451,0.13,0.2759,0.5066])\n",
    "\n",
    "y = y_10Gbps\n",
    "# 执行线性拟合\n",
    "slope, intercept, r_value, p_value, std_err = stats.linregress(x, y)\n",
    "print(slope, intercept)\n",
    "# 创建一个最佳拟合直线的数组\n",
    "fit_line = slope * x + intercept\n",
    "\n",
    "# 绘制原始数据和拟合直线\n",
    "plt.scatter(x, y)\n",
    "plt.plot(x, fit_line, color='red')\n",
    "plt.xlabel('X轴')\n",
    "plt.ylabel('Y轴')\n",
    "plt.title('线性拟合')\n",
    "plt.show()\n",
    " \n",
    "# 输出拟合参数和相关性系数\n",
    "print(\"斜率:\", slope)\n",
    "print(\"截距:\", intercept)\n",
    "print(\"相关性系数:\", r_value)\n"
   ]
  },
  {
   "cell_type": "code",
   "execution_count": 16,
   "metadata": {},
   "outputs": [
    {
     "ename": "ModuleNotFoundError",
     "evalue": "No module named 'torch'",
     "output_type": "error",
     "traceback": [
      "\u001b[0;31m---------------------------------------------------------------------------\u001b[0m",
      "\u001b[0;31mModuleNotFoundError\u001b[0m                       Traceback (most recent call last)",
      "Input \u001b[0;32mIn [16]\u001b[0m, in \u001b[0;36m<cell line: 1>\u001b[0;34m()\u001b[0m\n\u001b[0;32m----> 1\u001b[0m \u001b[38;5;28;01mimport\u001b[39;00m \u001b[38;5;21;01mtorch\u001b[39;00m\n\u001b[1;32m      2\u001b[0m \u001b[38;5;28;01mfrom\u001b[39;00m \u001b[38;5;21;01mtorchvision\u001b[39;00m\u001b[38;5;21;01m.\u001b[39;00m\u001b[38;5;21;01mmodels\u001b[39;00m \u001b[38;5;28;01mimport\u001b[39;00m resnet50\n\u001b[1;32m      4\u001b[0m \u001b[38;5;66;03m# 加载 ResNet-50 模型\u001b[39;00m\n",
      "\u001b[0;31mModuleNotFoundError\u001b[0m: No module named 'torch'"
     ]
    }
   ],
   "source": [
    "import torch\n",
    "from torchvision.models import resnet50\n",
    "\n",
    "# 加载 ResNet-50 模型\n",
    "model = resnet50(pretrained=True)\n",
    "\n",
    "# 计算模型的大小\n",
    "total_params = sum(p.numel() for p in model.parameters())\n",
    "print(\"Total parameters:\", total_params)"
   ]
  }
 ],
 "metadata": {
  "kernelspec": {
   "display_name": "base",
   "language": "python",
   "name": "python3"
  },
  "language_info": {
   "codemirror_mode": {
    "name": "ipython",
    "version": 3
   },
   "file_extension": ".py",
   "mimetype": "text/x-python",
   "name": "python",
   "nbconvert_exporter": "python",
   "pygments_lexer": "ipython3",
   "version": "3.8.5"
  }
 },
 "nbformat": 4,
 "nbformat_minor": 2
}
