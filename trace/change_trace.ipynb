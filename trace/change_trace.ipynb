{
 "cells": [
  {
   "cell_type": "code",
   "execution_count": 4,
   "metadata": {},
   "outputs": [],
   "source": [
    "import json"
   ]
  },
  {
   "cell_type": "code",
   "execution_count": 5,
   "metadata": {},
   "outputs": [],
   "source": [
    "def change_trace_interval(uniform_file,interval):\n",
    "    with open(uniform_file) as f:\n",
    "        lines = f.readlines()\n",
    "    \n",
    "    new_trace_name = \"poisson_interval_%d.json\" % interval\n",
    "    new_file = open(new_trace_name, 'w')\n",
    "    \n",
    "    for line in lines:\n",
    "        job = json.loads(line)\n",
    "        job[\"arrive_time\"] = job[\"arrive_time\"] / (80 / interval)\n",
    "        new_file.write(json.dumps(job) + '\\n')"
   ]
  },
  {
   "cell_type": "code",
   "execution_count": 6,
   "metadata": {},
   "outputs": [],
   "source": [
    "interval_list = [10,40,80,160,240]\n",
    "for interval in interval_list:\n",
    "    change_trace_interval(\"uniform_interval.json\",interval)"
   ]
  }
 ],
 "metadata": {
  "kernelspec": {
   "display_name": "base",
   "language": "python",
   "name": "python3"
  },
  "language_info": {
   "codemirror_mode": {
    "name": "ipython",
    "version": 3
   },
   "file_extension": ".py",
   "mimetype": "text/x-python",
   "name": "python",
   "nbconvert_exporter": "python",
   "pygments_lexer": "ipython3",
   "version": "3.8.5"
  }
 },
 "nbformat": 4,
 "nbformat_minor": 2
}
