{
 "cells": [
  {
   "cell_type": "code",
   "execution_count": 6,
   "metadata": {},
   "outputs": [],
   "source": [
    "import os\n",
    "from nbclient import NotebookClient\n",
    "import nbformat"
   ]
  },
  {
   "cell_type": "code",
   "execution_count": 7,
   "metadata": {},
   "outputs": [],
   "source": [
    "def copy_painter(src_dir, dst_dir_list):\n",
    "    for dst_dir in dst_dir_list:\n",
    "        if dst_dir == src_dir.rsplit(\"/\",1)[0]:\n",
    "            continue\n",
    "        os.system(\"cp -r {} {}\".format(src_dir, dst_dir))"
   ]
  },
  {
   "cell_type": "code",
   "execution_count": 8,
   "metadata": {},
   "outputs": [],
   "source": [
    "def exec_painter(dst_dir_list, copy_res):\n",
    "    origin_dir = \"/home/yangxiaomao/amysim\"\n",
    "    os.chdir(origin_dir)\n",
    "\n",
    "    for dst_dir in dst_dir_list:\n",
    "        os.chdir(os.path.join(origin_dir))\n",
    "        nb_path = os.path.join(origin_dir, dst_dir, \"plot.ipynb\")\n",
    "        \n",
    "        with open(nb_path) as f:\n",
    "            nb = nbformat.read(f, as_version=4)\n",
    "            \n",
    "        nbc = NotebookClient(nb)\n",
    "        os.chdir(dst_dir)\n",
    "        print(\"Start executed %s\" % nb_path)\n",
    "        nbc.execute()\n",
    "        with open(nb_path, \"w\") as f:\n",
    "            nbformat.write(nb, f)\n",
    "        \n",
    "        if copy_res:\n",
    "            os.system(\"cp %s %s\" % ( \n",
    "                    os.path.join(nb_path.rsplit(\"/\",1)[0], \"jct.pdf\"),\n",
    "                    os.path.join(origin_dir,\"result_all\", \"%s-jct.pdf\" % (dst_dir.split(\"/\")[-1]))\n",
    "                )\n",
    "            )\n",
    "            os.system(\"cp %s %s\" % ( \n",
    "                    os.path.join(nb_path.rsplit(\"/\",1)[0], \"makespan.pdf\"),\n",
    "                    os.path.join(origin_dir,\"result_all\", \"%s-makespan.pdf\" % (dst_dir.split(\"/\")[-1]))\n",
    "                )\n",
    "            )\n",
    "        print(f\"{nb_path} finish\")\n",
    "        \n",
    "        "
   ]
  },
  {
   "cell_type": "code",
   "execution_count": 9,
   "metadata": {},
   "outputs": [],
   "source": [
    "def get_dst_dir_list():\n",
    "    dst_dir_list = []\n",
    "    machine_num_dir_list = [\n",
    "        os.path.join(\"result_cluster_size\", \"machine_num-{}\".format(i)) for i in [4,8,12,16,20,24]\n",
    "    ]\n",
    "    comm_level_dit_list = [\n",
    "        os.path.join(\"result_comm_level\", \"comm_level-{}\".format(i)) for i in [\"low\",\"mid\",\"high\"]\n",
    "    ]\n",
    "    interval_dir_list = [\n",
    "        os.path.join(\"result_interval\", \"interval-{}s\".format(i)) for i in [5,10,40,80,160,240]\n",
    "    ]\n",
    "    # thresh_dir_list = [\n",
    "    #     os.path.join(\"result_jaca_thresh\", \"thresh-{}\".format(i)) for i in [0.6,0.8,1.0,1.2,1.4,1.6,1.8]\n",
    "    # ]\n",
    "    nic_cap_dir_list = [\n",
    "        os.path.join(\"result_nic_cap\", \"bw-{}Gbps\".format(i)) for i in [1,5,10,20,30]\n",
    "    ]\n",
    "    for d in [machine_num_dir_list, comm_level_dit_list, interval_dir_list, nic_cap_dir_list]:\n",
    "        dst_dir_list += d\n",
    "    return dst_dir_list"
   ]
  },
  {
   "cell_type": "code",
   "execution_count": 10,
   "metadata": {},
   "outputs": [
    {
     "name": "stdout",
     "output_type": "stream",
     "text": [
      "Start executed /home/yangxiaomao/amysim/result_cluster_size/machine_num-4/plot.ipynb\n",
      "/home/yangxiaomao/amysim/result_cluster_size/machine_num-4/plot.ipynb finish\n",
      "Start executed /home/yangxiaomao/amysim/result_cluster_size/machine_num-8/plot.ipynb\n",
      "/home/yangxiaomao/amysim/result_cluster_size/machine_num-8/plot.ipynb finish\n",
      "Start executed /home/yangxiaomao/amysim/result_cluster_size/machine_num-12/plot.ipynb\n",
      "/home/yangxiaomao/amysim/result_cluster_size/machine_num-12/plot.ipynb finish\n",
      "Start executed /home/yangxiaomao/amysim/result_cluster_size/machine_num-16/plot.ipynb\n",
      "/home/yangxiaomao/amysim/result_cluster_size/machine_num-16/plot.ipynb finish\n",
      "Start executed /home/yangxiaomao/amysim/result_cluster_size/machine_num-20/plot.ipynb\n",
      "/home/yangxiaomao/amysim/result_cluster_size/machine_num-20/plot.ipynb finish\n",
      "Start executed /home/yangxiaomao/amysim/result_cluster_size/machine_num-24/plot.ipynb\n",
      "/home/yangxiaomao/amysim/result_cluster_size/machine_num-24/plot.ipynb finish\n",
      "Start executed /home/yangxiaomao/amysim/result_comm_level/comm_level-low/plot.ipynb\n",
      "/home/yangxiaomao/amysim/result_comm_level/comm_level-low/plot.ipynb finish\n",
      "Start executed /home/yangxiaomao/amysim/result_comm_level/comm_level-mid/plot.ipynb\n",
      "/home/yangxiaomao/amysim/result_comm_level/comm_level-mid/plot.ipynb finish\n",
      "Start executed /home/yangxiaomao/amysim/result_comm_level/comm_level-high/plot.ipynb\n",
      "/home/yangxiaomao/amysim/result_comm_level/comm_level-high/plot.ipynb finish\n",
      "Start executed /home/yangxiaomao/amysim/result_interval/interval-5s/plot.ipynb\n",
      "/home/yangxiaomao/amysim/result_interval/interval-5s/plot.ipynb finish\n",
      "Start executed /home/yangxiaomao/amysim/result_interval/interval-10s/plot.ipynb\n",
      "/home/yangxiaomao/amysim/result_interval/interval-10s/plot.ipynb finish\n",
      "Start executed /home/yangxiaomao/amysim/result_interval/interval-40s/plot.ipynb\n",
      "/home/yangxiaomao/amysim/result_interval/interval-40s/plot.ipynb finish\n",
      "Start executed /home/yangxiaomao/amysim/result_interval/interval-80s/plot.ipynb\n",
      "/home/yangxiaomao/amysim/result_interval/interval-80s/plot.ipynb finish\n",
      "Start executed /home/yangxiaomao/amysim/result_interval/interval-160s/plot.ipynb\n",
      "/home/yangxiaomao/amysim/result_interval/interval-160s/plot.ipynb finish\n",
      "Start executed /home/yangxiaomao/amysim/result_interval/interval-240s/plot.ipynb\n",
      "/home/yangxiaomao/amysim/result_interval/interval-240s/plot.ipynb finish\n",
      "Start executed /home/yangxiaomao/amysim/result_nic_cap/bw-1Gbps/plot.ipynb\n",
      "/home/yangxiaomao/amysim/result_nic_cap/bw-1Gbps/plot.ipynb finish\n",
      "Start executed /home/yangxiaomao/amysim/result_nic_cap/bw-5Gbps/plot.ipynb\n",
      "/home/yangxiaomao/amysim/result_nic_cap/bw-5Gbps/plot.ipynb finish\n",
      "Start executed /home/yangxiaomao/amysim/result_nic_cap/bw-10Gbps/plot.ipynb\n",
      "/home/yangxiaomao/amysim/result_nic_cap/bw-10Gbps/plot.ipynb finish\n",
      "Start executed /home/yangxiaomao/amysim/result_nic_cap/bw-20Gbps/plot.ipynb\n",
      "/home/yangxiaomao/amysim/result_nic_cap/bw-20Gbps/plot.ipynb finish\n",
      "Start executed /home/yangxiaomao/amysim/result_nic_cap/bw-30Gbps/plot.ipynb\n",
      "/home/yangxiaomao/amysim/result_nic_cap/bw-30Gbps/plot.ipynb finish\n"
     ]
    }
   ],
   "source": [
    "copy_src = True\n",
    "executed = True\n",
    "copy_res = True\n",
    "\n",
    "dst_dir_list = get_dst_dir_list()\n",
    "\n",
    "if copy_src:\n",
    "    src_dir = \"result_cluster_size/machine_num-4/plot.ipynb\"\n",
    "    copy_painter(src_dir, dst_dir_list)\n",
    "\n",
    "if executed:\n",
    "    exec_painter(dst_dir_list, copy_res)\n"
   ]
  }
 ],
 "metadata": {
  "kernelspec": {
   "display_name": "base",
   "language": "python",
   "name": "python3"
  },
  "language_info": {
   "codemirror_mode": {
    "name": "ipython",
    "version": 3
   },
   "file_extension": ".py",
   "mimetype": "text/x-python",
   "name": "python",
   "nbconvert_exporter": "python",
   "pygments_lexer": "ipython3",
   "version": "3.8.5"
  }
 },
 "nbformat": 4,
 "nbformat_minor": 2
}
